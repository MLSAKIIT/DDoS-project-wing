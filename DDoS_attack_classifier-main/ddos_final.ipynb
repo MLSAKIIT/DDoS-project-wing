{
 "cells": [
  {
   "cell_type": "code",
   "execution_count": 1,
   "id": "9f423580",
   "metadata": {},
   "outputs": [],
   "source": [
    "#download the dataset from the following link\n",
    "#https://www.kaggle.com/datasets/pedrohauy/sampledtftpattackcicddos2019\n",
    "\n",
    "import pandas as pd\n",
    "import numpy as np\n",
    "import seaborn as sb\n",
    "import matplotlib.pyplot as mp\n",
    "from sklearn.model_selection import train_test_split\n",
    "from sklearn.metrics import accuracy_score,confusion_matrix\n",
    "from sklearn.preprocessing import StandardScaler\n",
    "from sklearn import preprocessing\n",
    "from sklearn.feature_selection import SelectKBest\n",
    "from sklearn.feature_selection import mutual_info_classif\n",
    "from sklearn.tree import DecisionTreeClassifier\n",
    "%matplotlib inline"
   ]
  },
  {
   "cell_type": "code",
   "execution_count": 3,
   "id": "35d5df54",
   "metadata": {},
   "outputs": [
    {
     "name": "stderr",
     "output_type": "stream",
     "text": [
      "C:\\Users\\anirb\\AppData\\Local\\Temp\\ipykernel_21316\\966661884.py:1: DtypeWarning: Columns (85) have mixed types. Specify dtype option on import or set low_memory=False.\n",
      "  dataset=pd.read_csv('TFTP_mini.csv')\n"
     ]
    },
    {
     "data": {
      "text/html": [
       "<div>\n",
       "<style scoped>\n",
       "    .dataframe tbody tr th:only-of-type {\n",
       "        vertical-align: middle;\n",
       "    }\n",
       "\n",
       "    .dataframe tbody tr th {\n",
       "        vertical-align: top;\n",
       "    }\n",
       "\n",
       "    .dataframe thead th {\n",
       "        text-align: right;\n",
       "    }\n",
       "</style>\n",
       "<table border=\"1\" class=\"dataframe\">\n",
       "  <thead>\n",
       "    <tr style=\"text-align: right;\">\n",
       "      <th></th>\n",
       "      <th>Unnamed: 0</th>\n",
       "      <th>Flow ID</th>\n",
       "      <th>Source IP</th>\n",
       "      <th>Source Port</th>\n",
       "      <th>Destination IP</th>\n",
       "      <th>Destination Port</th>\n",
       "      <th>Protocol</th>\n",
       "      <th>Timestamp</th>\n",
       "      <th>Flow Duration</th>\n",
       "      <th>Total Fwd Packets</th>\n",
       "      <th>...</th>\n",
       "      <th>Active Std</th>\n",
       "      <th>Active Max</th>\n",
       "      <th>Active Min</th>\n",
       "      <th>Idle Mean</th>\n",
       "      <th>Idle Std</th>\n",
       "      <th>Idle Max</th>\n",
       "      <th>Idle Min</th>\n",
       "      <th>SimillarHTTP</th>\n",
       "      <th>Inbound</th>\n",
       "      <th>Label</th>\n",
       "    </tr>\n",
       "  </thead>\n",
       "  <tbody>\n",
       "    <tr>\n",
       "      <th>0</th>\n",
       "      <td>36815</td>\n",
       "      <td>172.16.0.5-192.168.50.1-44669-27661-17</td>\n",
       "      <td>172.16.0.5</td>\n",
       "      <td>44669</td>\n",
       "      <td>192.168.50.1</td>\n",
       "      <td>27661</td>\n",
       "      <td>17</td>\n",
       "      <td>2018-12-01 13:41:11.669699</td>\n",
       "      <td>3006788</td>\n",
       "      <td>4</td>\n",
       "      <td>...</td>\n",
       "      <td>0.0</td>\n",
       "      <td>0.0</td>\n",
       "      <td>0.0</td>\n",
       "      <td>0.0</td>\n",
       "      <td>0.0</td>\n",
       "      <td>0.0</td>\n",
       "      <td>0.0</td>\n",
       "      <td>0</td>\n",
       "      <td>1</td>\n",
       "      <td>TFTP</td>\n",
       "    </tr>\n",
       "    <tr>\n",
       "      <th>1</th>\n",
       "      <td>111158</td>\n",
       "      <td>172.16.0.5-192.168.50.1-26607-47973-6</td>\n",
       "      <td>172.16.0.5</td>\n",
       "      <td>26607</td>\n",
       "      <td>192.168.50.1</td>\n",
       "      <td>47973</td>\n",
       "      <td>6</td>\n",
       "      <td>2018-12-01 13:34:35.248008</td>\n",
       "      <td>1</td>\n",
       "      <td>2</td>\n",
       "      <td>...</td>\n",
       "      <td>0.0</td>\n",
       "      <td>0.0</td>\n",
       "      <td>0.0</td>\n",
       "      <td>0.0</td>\n",
       "      <td>0.0</td>\n",
       "      <td>0.0</td>\n",
       "      <td>0.0</td>\n",
       "      <td>0</td>\n",
       "      <td>1</td>\n",
       "      <td>TFTP</td>\n",
       "    </tr>\n",
       "    <tr>\n",
       "      <th>2</th>\n",
       "      <td>50970</td>\n",
       "      <td>172.16.0.5-192.168.50.1-62744-29235-17</td>\n",
       "      <td>172.16.0.5</td>\n",
       "      <td>62744</td>\n",
       "      <td>192.168.50.1</td>\n",
       "      <td>29235</td>\n",
       "      <td>17</td>\n",
       "      <td>2018-12-01 13:40:34.055555</td>\n",
       "      <td>6001231</td>\n",
       "      <td>6</td>\n",
       "      <td>...</td>\n",
       "      <td>0.0</td>\n",
       "      <td>0.0</td>\n",
       "      <td>0.0</td>\n",
       "      <td>0.0</td>\n",
       "      <td>0.0</td>\n",
       "      <td>0.0</td>\n",
       "      <td>0.0</td>\n",
       "      <td>0</td>\n",
       "      <td>1</td>\n",
       "      <td>TFTP</td>\n",
       "    </tr>\n",
       "    <tr>\n",
       "      <th>3</th>\n",
       "      <td>35641</td>\n",
       "      <td>172.16.0.5-192.168.50.1-62504-28295-17</td>\n",
       "      <td>172.16.0.5</td>\n",
       "      <td>62504</td>\n",
       "      <td>192.168.50.1</td>\n",
       "      <td>28295</td>\n",
       "      <td>17</td>\n",
       "      <td>2018-12-01 13:40:25.825426</td>\n",
       "      <td>6010191</td>\n",
       "      <td>6</td>\n",
       "      <td>...</td>\n",
       "      <td>0.0</td>\n",
       "      <td>0.0</td>\n",
       "      <td>0.0</td>\n",
       "      <td>0.0</td>\n",
       "      <td>0.0</td>\n",
       "      <td>0.0</td>\n",
       "      <td>0.0</td>\n",
       "      <td>0</td>\n",
       "      <td>1</td>\n",
       "      <td>TFTP</td>\n",
       "    </tr>\n",
       "    <tr>\n",
       "      <th>4</th>\n",
       "      <td>175243</td>\n",
       "      <td>172.16.0.5-192.168.50.1-22126-22126-6</td>\n",
       "      <td>172.16.0.5</td>\n",
       "      <td>22126</td>\n",
       "      <td>192.168.50.1</td>\n",
       "      <td>22126</td>\n",
       "      <td>6</td>\n",
       "      <td>2018-12-01 13:34:32.812922</td>\n",
       "      <td>1</td>\n",
       "      <td>2</td>\n",
       "      <td>...</td>\n",
       "      <td>0.0</td>\n",
       "      <td>0.0</td>\n",
       "      <td>0.0</td>\n",
       "      <td>0.0</td>\n",
       "      <td>0.0</td>\n",
       "      <td>0.0</td>\n",
       "      <td>0.0</td>\n",
       "      <td>0</td>\n",
       "      <td>1</td>\n",
       "      <td>TFTP</td>\n",
       "    </tr>\n",
       "    <tr>\n",
       "      <th>...</th>\n",
       "      <td>...</td>\n",
       "      <td>...</td>\n",
       "      <td>...</td>\n",
       "      <td>...</td>\n",
       "      <td>...</td>\n",
       "      <td>...</td>\n",
       "      <td>...</td>\n",
       "      <td>...</td>\n",
       "      <td>...</td>\n",
       "      <td>...</td>\n",
       "      <td>...</td>\n",
       "      <td>...</td>\n",
       "      <td>...</td>\n",
       "      <td>...</td>\n",
       "      <td>...</td>\n",
       "      <td>...</td>\n",
       "      <td>...</td>\n",
       "      <td>...</td>\n",
       "      <td>...</td>\n",
       "      <td>...</td>\n",
       "      <td>...</td>\n",
       "    </tr>\n",
       "    <tr>\n",
       "      <th>201074</th>\n",
       "      <td>26366</td>\n",
       "      <td>172.16.0.5-192.168.50.1-62468-52690-17</td>\n",
       "      <td>172.16.0.5</td>\n",
       "      <td>62468</td>\n",
       "      <td>192.168.50.1</td>\n",
       "      <td>52690</td>\n",
       "      <td>17</td>\n",
       "      <td>2018-12-01 14:01:56.458423</td>\n",
       "      <td>18000007</td>\n",
       "      <td>14</td>\n",
       "      <td>...</td>\n",
       "      <td>0.0</td>\n",
       "      <td>0.0</td>\n",
       "      <td>0.0</td>\n",
       "      <td>0.0</td>\n",
       "      <td>0.0</td>\n",
       "      <td>0.0</td>\n",
       "      <td>0.0</td>\n",
       "      <td>0</td>\n",
       "      <td>1</td>\n",
       "      <td>TFTP</td>\n",
       "    </tr>\n",
       "    <tr>\n",
       "      <th>201075</th>\n",
       "      <td>7628</td>\n",
       "      <td>172.16.0.5-192.168.50.1-62502-28180-17</td>\n",
       "      <td>172.16.0.5</td>\n",
       "      <td>62502</td>\n",
       "      <td>192.168.50.1</td>\n",
       "      <td>28180</td>\n",
       "      <td>17</td>\n",
       "      <td>2018-12-01 14:01:07.922695</td>\n",
       "      <td>11998985</td>\n",
       "      <td>10</td>\n",
       "      <td>...</td>\n",
       "      <td>0.0</td>\n",
       "      <td>0.0</td>\n",
       "      <td>0.0</td>\n",
       "      <td>0.0</td>\n",
       "      <td>0.0</td>\n",
       "      <td>0.0</td>\n",
       "      <td>0.0</td>\n",
       "      <td>0</td>\n",
       "      <td>1</td>\n",
       "      <td>TFTP</td>\n",
       "    </tr>\n",
       "    <tr>\n",
       "      <th>201076</th>\n",
       "      <td>18338</td>\n",
       "      <td>172.16.0.5-192.168.50.1-62492-10553-17</td>\n",
       "      <td>172.16.0.5</td>\n",
       "      <td>62492</td>\n",
       "      <td>192.168.50.1</td>\n",
       "      <td>10553</td>\n",
       "      <td>17</td>\n",
       "      <td>2018-12-01 14:04:36.624050</td>\n",
       "      <td>18000058</td>\n",
       "      <td>14</td>\n",
       "      <td>...</td>\n",
       "      <td>0.0</td>\n",
       "      <td>0.0</td>\n",
       "      <td>0.0</td>\n",
       "      <td>0.0</td>\n",
       "      <td>0.0</td>\n",
       "      <td>0.0</td>\n",
       "      <td>0.0</td>\n",
       "      <td>0</td>\n",
       "      <td>1</td>\n",
       "      <td>TFTP</td>\n",
       "    </tr>\n",
       "    <tr>\n",
       "      <th>201077</th>\n",
       "      <td>14639</td>\n",
       "      <td>172.16.0.5-192.168.50.1-41987-42708-17</td>\n",
       "      <td>172.16.0.5</td>\n",
       "      <td>41987</td>\n",
       "      <td>192.168.50.1</td>\n",
       "      <td>42708</td>\n",
       "      <td>17</td>\n",
       "      <td>2018-12-01 14:01:16.934974</td>\n",
       "      <td>3006606</td>\n",
       "      <td>4</td>\n",
       "      <td>...</td>\n",
       "      <td>0.0</td>\n",
       "      <td>0.0</td>\n",
       "      <td>0.0</td>\n",
       "      <td>0.0</td>\n",
       "      <td>0.0</td>\n",
       "      <td>0.0</td>\n",
       "      <td>0.0</td>\n",
       "      <td>0</td>\n",
       "      <td>1</td>\n",
       "      <td>TFTP</td>\n",
       "    </tr>\n",
       "    <tr>\n",
       "      <th>201078</th>\n",
       "      <td>21837</td>\n",
       "      <td>172.16.0.5-192.168.50.1-50129-28870-17</td>\n",
       "      <td>172.16.0.5</td>\n",
       "      <td>50129</td>\n",
       "      <td>192.168.50.1</td>\n",
       "      <td>28870</td>\n",
       "      <td>17</td>\n",
       "      <td>2018-12-01 14:02:34.524990</td>\n",
       "      <td>12017822</td>\n",
       "      <td>10</td>\n",
       "      <td>...</td>\n",
       "      <td>0.0</td>\n",
       "      <td>0.0</td>\n",
       "      <td>0.0</td>\n",
       "      <td>0.0</td>\n",
       "      <td>0.0</td>\n",
       "      <td>0.0</td>\n",
       "      <td>0.0</td>\n",
       "      <td>0</td>\n",
       "      <td>1</td>\n",
       "      <td>TFTP</td>\n",
       "    </tr>\n",
       "  </tbody>\n",
       "</table>\n",
       "<p>201079 rows × 88 columns</p>\n",
       "</div>"
      ],
      "text/plain": [
       "        Unnamed: 0                                 Flow ID   Source IP  \\\n",
       "0            36815  172.16.0.5-192.168.50.1-44669-27661-17  172.16.0.5   \n",
       "1           111158   172.16.0.5-192.168.50.1-26607-47973-6  172.16.0.5   \n",
       "2            50970  172.16.0.5-192.168.50.1-62744-29235-17  172.16.0.5   \n",
       "3            35641  172.16.0.5-192.168.50.1-62504-28295-17  172.16.0.5   \n",
       "4           175243   172.16.0.5-192.168.50.1-22126-22126-6  172.16.0.5   \n",
       "...            ...                                     ...         ...   \n",
       "201074       26366  172.16.0.5-192.168.50.1-62468-52690-17  172.16.0.5   \n",
       "201075        7628  172.16.0.5-192.168.50.1-62502-28180-17  172.16.0.5   \n",
       "201076       18338  172.16.0.5-192.168.50.1-62492-10553-17  172.16.0.5   \n",
       "201077       14639  172.16.0.5-192.168.50.1-41987-42708-17  172.16.0.5   \n",
       "201078       21837  172.16.0.5-192.168.50.1-50129-28870-17  172.16.0.5   \n",
       "\n",
       "         Source Port  Destination IP   Destination Port   Protocol  \\\n",
       "0              44669    192.168.50.1              27661         17   \n",
       "1              26607    192.168.50.1              47973          6   \n",
       "2              62744    192.168.50.1              29235         17   \n",
       "3              62504    192.168.50.1              28295         17   \n",
       "4              22126    192.168.50.1              22126          6   \n",
       "...              ...             ...                ...        ...   \n",
       "201074         62468    192.168.50.1              52690         17   \n",
       "201075         62502    192.168.50.1              28180         17   \n",
       "201076         62492    192.168.50.1              10553         17   \n",
       "201077         41987    192.168.50.1              42708         17   \n",
       "201078         50129    192.168.50.1              28870         17   \n",
       "\n",
       "                         Timestamp   Flow Duration   Total Fwd Packets  ...  \\\n",
       "0       2018-12-01 13:41:11.669699         3006788                   4  ...   \n",
       "1       2018-12-01 13:34:35.248008               1                   2  ...   \n",
       "2       2018-12-01 13:40:34.055555         6001231                   6  ...   \n",
       "3       2018-12-01 13:40:25.825426         6010191                   6  ...   \n",
       "4       2018-12-01 13:34:32.812922               1                   2  ...   \n",
       "...                            ...             ...                 ...  ...   \n",
       "201074  2018-12-01 14:01:56.458423        18000007                  14  ...   \n",
       "201075  2018-12-01 14:01:07.922695        11998985                  10  ...   \n",
       "201076  2018-12-01 14:04:36.624050        18000058                  14  ...   \n",
       "201077  2018-12-01 14:01:16.934974         3006606                   4  ...   \n",
       "201078  2018-12-01 14:02:34.524990        12017822                  10  ...   \n",
       "\n",
       "         Active Std   Active Max   Active Min  Idle Mean   Idle Std  \\\n",
       "0               0.0          0.0          0.0        0.0        0.0   \n",
       "1               0.0          0.0          0.0        0.0        0.0   \n",
       "2               0.0          0.0          0.0        0.0        0.0   \n",
       "3               0.0          0.0          0.0        0.0        0.0   \n",
       "4               0.0          0.0          0.0        0.0        0.0   \n",
       "...             ...          ...          ...        ...        ...   \n",
       "201074          0.0          0.0          0.0        0.0        0.0   \n",
       "201075          0.0          0.0          0.0        0.0        0.0   \n",
       "201076          0.0          0.0          0.0        0.0        0.0   \n",
       "201077          0.0          0.0          0.0        0.0        0.0   \n",
       "201078          0.0          0.0          0.0        0.0        0.0   \n",
       "\n",
       "         Idle Max   Idle Min  SimillarHTTP   Inbound   Label  \n",
       "0             0.0        0.0             0         1    TFTP  \n",
       "1             0.0        0.0             0         1    TFTP  \n",
       "2             0.0        0.0             0         1    TFTP  \n",
       "3             0.0        0.0             0         1    TFTP  \n",
       "4             0.0        0.0             0         1    TFTP  \n",
       "...           ...        ...           ...       ...     ...  \n",
       "201074        0.0        0.0             0         1    TFTP  \n",
       "201075        0.0        0.0             0         1    TFTP  \n",
       "201076        0.0        0.0             0         1    TFTP  \n",
       "201077        0.0        0.0             0         1    TFTP  \n",
       "201078        0.0        0.0             0         1    TFTP  \n",
       "\n",
       "[201079 rows x 88 columns]"
      ]
     },
     "execution_count": 3,
     "metadata": {},
     "output_type": "execute_result"
    }
   ],
   "source": [
    "dataset=pd.read_csv('TFTP_mini.csv')\n",
    "dataset"
   ]
  },
  {
   "cell_type": "code",
   "execution_count": 4,
   "id": "02fb5008",
   "metadata": {},
   "outputs": [
    {
     "data": {
      "text/html": [
       "<div>\n",
       "<style scoped>\n",
       "    .dataframe tbody tr th:only-of-type {\n",
       "        vertical-align: middle;\n",
       "    }\n",
       "\n",
       "    .dataframe tbody tr th {\n",
       "        vertical-align: top;\n",
       "    }\n",
       "\n",
       "    .dataframe thead th {\n",
       "        text-align: right;\n",
       "    }\n",
       "</style>\n",
       "<table border=\"1\" class=\"dataframe\">\n",
       "  <thead>\n",
       "    <tr style=\"text-align: right;\">\n",
       "      <th></th>\n",
       "      <th>Unnamed: 0</th>\n",
       "      <th>Flow ID</th>\n",
       "      <th>Source IP</th>\n",
       "      <th>Source Port</th>\n",
       "      <th>Destination IP</th>\n",
       "      <th>Destination Port</th>\n",
       "      <th>Protocol</th>\n",
       "      <th>Timestamp</th>\n",
       "      <th>Flow Duration</th>\n",
       "      <th>Total Fwd Packets</th>\n",
       "      <th>...</th>\n",
       "      <th>Active Std</th>\n",
       "      <th>Active Max</th>\n",
       "      <th>Active Min</th>\n",
       "      <th>Idle Mean</th>\n",
       "      <th>Idle Std</th>\n",
       "      <th>Idle Max</th>\n",
       "      <th>Idle Min</th>\n",
       "      <th>SimillarHTTP</th>\n",
       "      <th>Inbound</th>\n",
       "      <th>Label</th>\n",
       "    </tr>\n",
       "  </thead>\n",
       "  <tbody>\n",
       "    <tr>\n",
       "      <th>0</th>\n",
       "      <td>36815</td>\n",
       "      <td>172.16.0.5-192.168.50.1-44669-27661-17</td>\n",
       "      <td>172.16.0.5</td>\n",
       "      <td>44669</td>\n",
       "      <td>192.168.50.1</td>\n",
       "      <td>27661</td>\n",
       "      <td>17</td>\n",
       "      <td>2018-12-01 13:41:11.669699</td>\n",
       "      <td>3006788</td>\n",
       "      <td>4</td>\n",
       "      <td>...</td>\n",
       "      <td>0.0</td>\n",
       "      <td>0.0</td>\n",
       "      <td>0.0</td>\n",
       "      <td>0.0</td>\n",
       "      <td>0.0</td>\n",
       "      <td>0.0</td>\n",
       "      <td>0.0</td>\n",
       "      <td>0</td>\n",
       "      <td>1</td>\n",
       "      <td>TFTP</td>\n",
       "    </tr>\n",
       "    <tr>\n",
       "      <th>1</th>\n",
       "      <td>111158</td>\n",
       "      <td>172.16.0.5-192.168.50.1-26607-47973-6</td>\n",
       "      <td>172.16.0.5</td>\n",
       "      <td>26607</td>\n",
       "      <td>192.168.50.1</td>\n",
       "      <td>47973</td>\n",
       "      <td>6</td>\n",
       "      <td>2018-12-01 13:34:35.248008</td>\n",
       "      <td>1</td>\n",
       "      <td>2</td>\n",
       "      <td>...</td>\n",
       "      <td>0.0</td>\n",
       "      <td>0.0</td>\n",
       "      <td>0.0</td>\n",
       "      <td>0.0</td>\n",
       "      <td>0.0</td>\n",
       "      <td>0.0</td>\n",
       "      <td>0.0</td>\n",
       "      <td>0</td>\n",
       "      <td>1</td>\n",
       "      <td>TFTP</td>\n",
       "    </tr>\n",
       "    <tr>\n",
       "      <th>2</th>\n",
       "      <td>50970</td>\n",
       "      <td>172.16.0.5-192.168.50.1-62744-29235-17</td>\n",
       "      <td>172.16.0.5</td>\n",
       "      <td>62744</td>\n",
       "      <td>192.168.50.1</td>\n",
       "      <td>29235</td>\n",
       "      <td>17</td>\n",
       "      <td>2018-12-01 13:40:34.055555</td>\n",
       "      <td>6001231</td>\n",
       "      <td>6</td>\n",
       "      <td>...</td>\n",
       "      <td>0.0</td>\n",
       "      <td>0.0</td>\n",
       "      <td>0.0</td>\n",
       "      <td>0.0</td>\n",
       "      <td>0.0</td>\n",
       "      <td>0.0</td>\n",
       "      <td>0.0</td>\n",
       "      <td>0</td>\n",
       "      <td>1</td>\n",
       "      <td>TFTP</td>\n",
       "    </tr>\n",
       "    <tr>\n",
       "      <th>3</th>\n",
       "      <td>35641</td>\n",
       "      <td>172.16.0.5-192.168.50.1-62504-28295-17</td>\n",
       "      <td>172.16.0.5</td>\n",
       "      <td>62504</td>\n",
       "      <td>192.168.50.1</td>\n",
       "      <td>28295</td>\n",
       "      <td>17</td>\n",
       "      <td>2018-12-01 13:40:25.825426</td>\n",
       "      <td>6010191</td>\n",
       "      <td>6</td>\n",
       "      <td>...</td>\n",
       "      <td>0.0</td>\n",
       "      <td>0.0</td>\n",
       "      <td>0.0</td>\n",
       "      <td>0.0</td>\n",
       "      <td>0.0</td>\n",
       "      <td>0.0</td>\n",
       "      <td>0.0</td>\n",
       "      <td>0</td>\n",
       "      <td>1</td>\n",
       "      <td>TFTP</td>\n",
       "    </tr>\n",
       "    <tr>\n",
       "      <th>4</th>\n",
       "      <td>175243</td>\n",
       "      <td>172.16.0.5-192.168.50.1-22126-22126-6</td>\n",
       "      <td>172.16.0.5</td>\n",
       "      <td>22126</td>\n",
       "      <td>192.168.50.1</td>\n",
       "      <td>22126</td>\n",
       "      <td>6</td>\n",
       "      <td>2018-12-01 13:34:32.812922</td>\n",
       "      <td>1</td>\n",
       "      <td>2</td>\n",
       "      <td>...</td>\n",
       "      <td>0.0</td>\n",
       "      <td>0.0</td>\n",
       "      <td>0.0</td>\n",
       "      <td>0.0</td>\n",
       "      <td>0.0</td>\n",
       "      <td>0.0</td>\n",
       "      <td>0.0</td>\n",
       "      <td>0</td>\n",
       "      <td>1</td>\n",
       "      <td>TFTP</td>\n",
       "    </tr>\n",
       "  </tbody>\n",
       "</table>\n",
       "<p>5 rows × 88 columns</p>\n",
       "</div>"
      ],
      "text/plain": [
       "   Unnamed: 0                                 Flow ID   Source IP  \\\n",
       "0       36815  172.16.0.5-192.168.50.1-44669-27661-17  172.16.0.5   \n",
       "1      111158   172.16.0.5-192.168.50.1-26607-47973-6  172.16.0.5   \n",
       "2       50970  172.16.0.5-192.168.50.1-62744-29235-17  172.16.0.5   \n",
       "3       35641  172.16.0.5-192.168.50.1-62504-28295-17  172.16.0.5   \n",
       "4      175243   172.16.0.5-192.168.50.1-22126-22126-6  172.16.0.5   \n",
       "\n",
       "    Source Port  Destination IP   Destination Port   Protocol  \\\n",
       "0         44669    192.168.50.1              27661         17   \n",
       "1         26607    192.168.50.1              47973          6   \n",
       "2         62744    192.168.50.1              29235         17   \n",
       "3         62504    192.168.50.1              28295         17   \n",
       "4         22126    192.168.50.1              22126          6   \n",
       "\n",
       "                    Timestamp   Flow Duration   Total Fwd Packets  ...  \\\n",
       "0  2018-12-01 13:41:11.669699         3006788                   4  ...   \n",
       "1  2018-12-01 13:34:35.248008               1                   2  ...   \n",
       "2  2018-12-01 13:40:34.055555         6001231                   6  ...   \n",
       "3  2018-12-01 13:40:25.825426         6010191                   6  ...   \n",
       "4  2018-12-01 13:34:32.812922               1                   2  ...   \n",
       "\n",
       "    Active Std   Active Max   Active Min  Idle Mean   Idle Std   Idle Max  \\\n",
       "0          0.0          0.0          0.0        0.0        0.0        0.0   \n",
       "1          0.0          0.0          0.0        0.0        0.0        0.0   \n",
       "2          0.0          0.0          0.0        0.0        0.0        0.0   \n",
       "3          0.0          0.0          0.0        0.0        0.0        0.0   \n",
       "4          0.0          0.0          0.0        0.0        0.0        0.0   \n",
       "\n",
       "    Idle Min  SimillarHTTP   Inbound   Label  \n",
       "0        0.0             0         1    TFTP  \n",
       "1        0.0             0         1    TFTP  \n",
       "2        0.0             0         1    TFTP  \n",
       "3        0.0             0         1    TFTP  \n",
       "4        0.0             0         1    TFTP  \n",
       "\n",
       "[5 rows x 88 columns]"
      ]
     },
     "execution_count": 4,
     "metadata": {},
     "output_type": "execute_result"
    }
   ],
   "source": [
    "dataset.head()"
   ]
  },
  {
   "cell_type": "code",
   "execution_count": 5,
   "id": "b714a946",
   "metadata": {},
   "outputs": [
    {
     "data": {
      "text/plain": [
       "Unnamed: 0         0\n",
       "Flow ID            0\n",
       " Source IP         0\n",
       " Source Port       0\n",
       " Destination IP    0\n",
       "                  ..\n",
       " Idle Max          0\n",
       " Idle Min          0\n",
       "SimillarHTTP       0\n",
       " Inbound           0\n",
       " Label             0\n",
       "Length: 88, dtype: int64"
      ]
     },
     "execution_count": 5,
     "metadata": {},
     "output_type": "execute_result"
    }
   ],
   "source": [
    "dataset.isnull().sum()"
   ]
  },
  {
   "cell_type": "code",
   "execution_count": 6,
   "id": "7795706f",
   "metadata": {},
   "outputs": [
    {
     "name": "stdout",
     "output_type": "stream",
     "text": [
      "<class 'pandas.core.frame.DataFrame'>\n",
      "RangeIndex: 201079 entries, 0 to 201078\n",
      "Data columns (total 88 columns):\n",
      " #   Column                        Non-Null Count   Dtype  \n",
      "---  ------                        --------------   -----  \n",
      " 0   Unnamed: 0                    201079 non-null  int64  \n",
      " 1   Flow ID                       201079 non-null  object \n",
      " 2    Source IP                    201079 non-null  object \n",
      " 3    Source Port                  201079 non-null  int64  \n",
      " 4    Destination IP               201079 non-null  object \n",
      " 5    Destination Port             201079 non-null  int64  \n",
      " 6    Protocol                     201079 non-null  int64  \n",
      " 7    Timestamp                    201079 non-null  object \n",
      " 8    Flow Duration                201079 non-null  int64  \n",
      " 9    Total Fwd Packets            201079 non-null  int64  \n",
      " 10   Total Backward Packets       201079 non-null  int64  \n",
      " 11  Total Length of Fwd Packets   201079 non-null  float64\n",
      " 12   Total Length of Bwd Packets  201079 non-null  float64\n",
      " 13   Fwd Packet Length Max        201079 non-null  float64\n",
      " 14   Fwd Packet Length Min        201079 non-null  float64\n",
      " 15   Fwd Packet Length Mean       201079 non-null  float64\n",
      " 16   Fwd Packet Length Std        201079 non-null  float64\n",
      " 17  Bwd Packet Length Max         201079 non-null  float64\n",
      " 18   Bwd Packet Length Min        201079 non-null  float64\n",
      " 19   Bwd Packet Length Mean       201079 non-null  float64\n",
      " 20   Bwd Packet Length Std        201079 non-null  float64\n",
      " 21  Flow Bytes/s                  200970 non-null  float64\n",
      " 22   Flow Packets/s               201079 non-null  float64\n",
      " 23   Flow IAT Mean                201079 non-null  float64\n",
      " 24   Flow IAT Std                 201079 non-null  float64\n",
      " 25   Flow IAT Max                 201079 non-null  float64\n",
      " 26   Flow IAT Min                 201079 non-null  float64\n",
      " 27  Fwd IAT Total                 201079 non-null  float64\n",
      " 28   Fwd IAT Mean                 201079 non-null  float64\n",
      " 29   Fwd IAT Std                  201079 non-null  float64\n",
      " 30   Fwd IAT Max                  201079 non-null  float64\n",
      " 31   Fwd IAT Min                  201079 non-null  float64\n",
      " 32  Bwd IAT Total                 201079 non-null  float64\n",
      " 33   Bwd IAT Mean                 201079 non-null  float64\n",
      " 34   Bwd IAT Std                  201079 non-null  float64\n",
      " 35   Bwd IAT Max                  201079 non-null  float64\n",
      " 36   Bwd IAT Min                  201079 non-null  float64\n",
      " 37  Fwd PSH Flags                 201079 non-null  int64  \n",
      " 38   Bwd PSH Flags                201079 non-null  int64  \n",
      " 39   Fwd URG Flags                201079 non-null  int64  \n",
      " 40   Bwd URG Flags                201079 non-null  int64  \n",
      " 41   Fwd Header Length            201079 non-null  int64  \n",
      " 42   Bwd Header Length            201079 non-null  int64  \n",
      " 43  Fwd Packets/s                 201079 non-null  float64\n",
      " 44   Bwd Packets/s                201079 non-null  float64\n",
      " 45   Min Packet Length            201079 non-null  float64\n",
      " 46   Max Packet Length            201079 non-null  float64\n",
      " 47   Packet Length Mean           201079 non-null  float64\n",
      " 48   Packet Length Std            201079 non-null  float64\n",
      " 49   Packet Length Variance       201079 non-null  float64\n",
      " 50  FIN Flag Count                201079 non-null  int64  \n",
      " 51   SYN Flag Count               201079 non-null  int64  \n",
      " 52   RST Flag Count               201079 non-null  int64  \n",
      " 53   PSH Flag Count               201079 non-null  int64  \n",
      " 54   ACK Flag Count               201079 non-null  int64  \n",
      " 55   URG Flag Count               201079 non-null  int64  \n",
      " 56   CWE Flag Count               201079 non-null  int64  \n",
      " 57   ECE Flag Count               201079 non-null  int64  \n",
      " 58   Down/Up Ratio                201079 non-null  float64\n",
      " 59   Average Packet Size          201079 non-null  float64\n",
      " 60   Avg Fwd Segment Size         201079 non-null  float64\n",
      " 61   Avg Bwd Segment Size         201079 non-null  float64\n",
      " 62   Fwd Header Length.1          201079 non-null  int64  \n",
      " 63  Fwd Avg Bytes/Bulk            201079 non-null  int64  \n",
      " 64   Fwd Avg Packets/Bulk         201079 non-null  int64  \n",
      " 65   Fwd Avg Bulk Rate            201079 non-null  int64  \n",
      " 66   Bwd Avg Bytes/Bulk           201079 non-null  int64  \n",
      " 67   Bwd Avg Packets/Bulk         201079 non-null  int64  \n",
      " 68  Bwd Avg Bulk Rate             201079 non-null  int64  \n",
      " 69  Subflow Fwd Packets           201079 non-null  int64  \n",
      " 70   Subflow Fwd Bytes            201079 non-null  int64  \n",
      " 71   Subflow Bwd Packets          201079 non-null  int64  \n",
      " 72   Subflow Bwd Bytes            201079 non-null  int64  \n",
      " 73  Init_Win_bytes_forward        201079 non-null  int64  \n",
      " 74   Init_Win_bytes_backward      201079 non-null  int64  \n",
      " 75   act_data_pkt_fwd             201079 non-null  int64  \n",
      " 76   min_seg_size_forward         201079 non-null  int64  \n",
      " 77  Active Mean                   201079 non-null  float64\n",
      " 78   Active Std                   201079 non-null  float64\n",
      " 79   Active Max                   201079 non-null  float64\n",
      " 80   Active Min                   201079 non-null  float64\n",
      " 81  Idle Mean                     201079 non-null  float64\n",
      " 82   Idle Std                     201079 non-null  float64\n",
      " 83   Idle Max                     201079 non-null  float64\n",
      " 84   Idle Min                     201079 non-null  float64\n",
      " 85  SimillarHTTP                  201079 non-null  object \n",
      " 86   Inbound                      201079 non-null  int64  \n",
      " 87   Label                        201079 non-null  object \n",
      "dtypes: float64(45), int64(37), object(6)\n",
      "memory usage: 135.0+ MB\n"
     ]
    }
   ],
   "source": [
    "dataset.info()"
   ]
  },
  {
   "cell_type": "code",
   "execution_count": 7,
   "id": "4da6b671",
   "metadata": {},
   "outputs": [
    {
     "data": {
      "text/plain": [
       "(201079, 88)"
      ]
     },
     "execution_count": 7,
     "metadata": {},
     "output_type": "execute_result"
    }
   ],
   "source": [
    "dataset.shape"
   ]
  },
  {
   "cell_type": "code",
   "execution_count": 8,
   "id": "ac08bc0c",
   "metadata": {},
   "outputs": [
    {
     "data": {
      "text/plain": [
       "array(['172.16.0.5-192.168.50.1-44669-27661-17',\n",
       "       '172.16.0.5-192.168.50.1-26607-47973-6',\n",
       "       '172.16.0.5-192.168.50.1-62744-29235-17', ...,\n",
       "       '172.16.0.5-192.168.50.1-62492-10553-17',\n",
       "       '172.16.0.5-192.168.50.1-41987-42708-17',\n",
       "       '172.16.0.5-192.168.50.1-50129-28870-17'], dtype=object)"
      ]
     },
     "execution_count": 8,
     "metadata": {},
     "output_type": "execute_result"
    }
   ],
   "source": [
    "dataset['Flow ID'].unique()"
   ]
  },
  {
   "cell_type": "code",
   "execution_count": 10,
   "id": "890ceca9",
   "metadata": {},
   "outputs": [
    {
     "data": {
      "text/plain": [
       "array(['TFTP', 'BENIGN'], dtype=object)"
      ]
     },
     "execution_count": 10,
     "metadata": {},
     "output_type": "execute_result"
    }
   ],
   "source": [
    "dataset[' Label'].unique()"
   ]
  },
  {
   "cell_type": "code",
   "execution_count": 11,
   "id": "5feea4f4",
   "metadata": {},
   "outputs": [
    {
     "data": {
      "text/plain": [
       "array([1, 0], dtype=int64)"
      ]
     },
     "execution_count": 11,
     "metadata": {},
     "output_type": "execute_result"
    }
   ],
   "source": [
    "dataset[' Inbound'].unique()"
   ]
  },
  {
   "cell_type": "code",
   "execution_count": 12,
   "id": "55802760",
   "metadata": {},
   "outputs": [
    {
     "data": {
      "text/html": [
       "<div>\n",
       "<style scoped>\n",
       "    .dataframe tbody tr th:only-of-type {\n",
       "        vertical-align: middle;\n",
       "    }\n",
       "\n",
       "    .dataframe tbody tr th {\n",
       "        vertical-align: top;\n",
       "    }\n",
       "\n",
       "    .dataframe thead th {\n",
       "        text-align: right;\n",
       "    }\n",
       "</style>\n",
       "<table border=\"1\" class=\"dataframe\">\n",
       "  <thead>\n",
       "    <tr style=\"text-align: right;\">\n",
       "      <th></th>\n",
       "      <th>Unnamed: 0</th>\n",
       "      <th>Flow ID</th>\n",
       "      <th>Source IP</th>\n",
       "      <th>Source Port</th>\n",
       "      <th>Destination IP</th>\n",
       "      <th>Destination Port</th>\n",
       "      <th>Protocol</th>\n",
       "      <th>Timestamp</th>\n",
       "      <th>Flow Duration</th>\n",
       "      <th>Total Fwd Packets</th>\n",
       "      <th>...</th>\n",
       "      <th>Active Std</th>\n",
       "      <th>Active Max</th>\n",
       "      <th>Active Min</th>\n",
       "      <th>Idle Mean</th>\n",
       "      <th>Idle Std</th>\n",
       "      <th>Idle Max</th>\n",
       "      <th>Idle Min</th>\n",
       "      <th>SimillarHTTP</th>\n",
       "      <th>Inbound</th>\n",
       "      <th>Label</th>\n",
       "    </tr>\n",
       "  </thead>\n",
       "  <tbody>\n",
       "    <tr>\n",
       "      <th>0</th>\n",
       "      <td>36815</td>\n",
       "      <td>172.16.0.5-192.168.50.1-44669-27661-17</td>\n",
       "      <td>172.16.0.5</td>\n",
       "      <td>44669</td>\n",
       "      <td>192.168.50.1</td>\n",
       "      <td>27661</td>\n",
       "      <td>17</td>\n",
       "      <td>2018-12-01 13:41:11.669699</td>\n",
       "      <td>3006788</td>\n",
       "      <td>4</td>\n",
       "      <td>...</td>\n",
       "      <td>0.0</td>\n",
       "      <td>0.0</td>\n",
       "      <td>0.0</td>\n",
       "      <td>0.0</td>\n",
       "      <td>0.0</td>\n",
       "      <td>0.0</td>\n",
       "      <td>0.0</td>\n",
       "      <td>0</td>\n",
       "      <td>1</td>\n",
       "      <td>1</td>\n",
       "    </tr>\n",
       "    <tr>\n",
       "      <th>1</th>\n",
       "      <td>111158</td>\n",
       "      <td>172.16.0.5-192.168.50.1-26607-47973-6</td>\n",
       "      <td>172.16.0.5</td>\n",
       "      <td>26607</td>\n",
       "      <td>192.168.50.1</td>\n",
       "      <td>47973</td>\n",
       "      <td>6</td>\n",
       "      <td>2018-12-01 13:34:35.248008</td>\n",
       "      <td>1</td>\n",
       "      <td>2</td>\n",
       "      <td>...</td>\n",
       "      <td>0.0</td>\n",
       "      <td>0.0</td>\n",
       "      <td>0.0</td>\n",
       "      <td>0.0</td>\n",
       "      <td>0.0</td>\n",
       "      <td>0.0</td>\n",
       "      <td>0.0</td>\n",
       "      <td>0</td>\n",
       "      <td>1</td>\n",
       "      <td>1</td>\n",
       "    </tr>\n",
       "    <tr>\n",
       "      <th>2</th>\n",
       "      <td>50970</td>\n",
       "      <td>172.16.0.5-192.168.50.1-62744-29235-17</td>\n",
       "      <td>172.16.0.5</td>\n",
       "      <td>62744</td>\n",
       "      <td>192.168.50.1</td>\n",
       "      <td>29235</td>\n",
       "      <td>17</td>\n",
       "      <td>2018-12-01 13:40:34.055555</td>\n",
       "      <td>6001231</td>\n",
       "      <td>6</td>\n",
       "      <td>...</td>\n",
       "      <td>0.0</td>\n",
       "      <td>0.0</td>\n",
       "      <td>0.0</td>\n",
       "      <td>0.0</td>\n",
       "      <td>0.0</td>\n",
       "      <td>0.0</td>\n",
       "      <td>0.0</td>\n",
       "      <td>0</td>\n",
       "      <td>1</td>\n",
       "      <td>1</td>\n",
       "    </tr>\n",
       "    <tr>\n",
       "      <th>3</th>\n",
       "      <td>35641</td>\n",
       "      <td>172.16.0.5-192.168.50.1-62504-28295-17</td>\n",
       "      <td>172.16.0.5</td>\n",
       "      <td>62504</td>\n",
       "      <td>192.168.50.1</td>\n",
       "      <td>28295</td>\n",
       "      <td>17</td>\n",
       "      <td>2018-12-01 13:40:25.825426</td>\n",
       "      <td>6010191</td>\n",
       "      <td>6</td>\n",
       "      <td>...</td>\n",
       "      <td>0.0</td>\n",
       "      <td>0.0</td>\n",
       "      <td>0.0</td>\n",
       "      <td>0.0</td>\n",
       "      <td>0.0</td>\n",
       "      <td>0.0</td>\n",
       "      <td>0.0</td>\n",
       "      <td>0</td>\n",
       "      <td>1</td>\n",
       "      <td>1</td>\n",
       "    </tr>\n",
       "    <tr>\n",
       "      <th>4</th>\n",
       "      <td>175243</td>\n",
       "      <td>172.16.0.5-192.168.50.1-22126-22126-6</td>\n",
       "      <td>172.16.0.5</td>\n",
       "      <td>22126</td>\n",
       "      <td>192.168.50.1</td>\n",
       "      <td>22126</td>\n",
       "      <td>6</td>\n",
       "      <td>2018-12-01 13:34:32.812922</td>\n",
       "      <td>1</td>\n",
       "      <td>2</td>\n",
       "      <td>...</td>\n",
       "      <td>0.0</td>\n",
       "      <td>0.0</td>\n",
       "      <td>0.0</td>\n",
       "      <td>0.0</td>\n",
       "      <td>0.0</td>\n",
       "      <td>0.0</td>\n",
       "      <td>0.0</td>\n",
       "      <td>0</td>\n",
       "      <td>1</td>\n",
       "      <td>1</td>\n",
       "    </tr>\n",
       "  </tbody>\n",
       "</table>\n",
       "<p>5 rows × 88 columns</p>\n",
       "</div>"
      ],
      "text/plain": [
       "   Unnamed: 0                                 Flow ID   Source IP  \\\n",
       "0       36815  172.16.0.5-192.168.50.1-44669-27661-17  172.16.0.5   \n",
       "1      111158   172.16.0.5-192.168.50.1-26607-47973-6  172.16.0.5   \n",
       "2       50970  172.16.0.5-192.168.50.1-62744-29235-17  172.16.0.5   \n",
       "3       35641  172.16.0.5-192.168.50.1-62504-28295-17  172.16.0.5   \n",
       "4      175243   172.16.0.5-192.168.50.1-22126-22126-6  172.16.0.5   \n",
       "\n",
       "    Source Port  Destination IP   Destination Port   Protocol  \\\n",
       "0         44669    192.168.50.1              27661         17   \n",
       "1         26607    192.168.50.1              47973          6   \n",
       "2         62744    192.168.50.1              29235         17   \n",
       "3         62504    192.168.50.1              28295         17   \n",
       "4         22126    192.168.50.1              22126          6   \n",
       "\n",
       "                    Timestamp   Flow Duration   Total Fwd Packets  ...  \\\n",
       "0  2018-12-01 13:41:11.669699         3006788                   4  ...   \n",
       "1  2018-12-01 13:34:35.248008               1                   2  ...   \n",
       "2  2018-12-01 13:40:34.055555         6001231                   6  ...   \n",
       "3  2018-12-01 13:40:25.825426         6010191                   6  ...   \n",
       "4  2018-12-01 13:34:32.812922               1                   2  ...   \n",
       "\n",
       "    Active Std   Active Max   Active Min  Idle Mean   Idle Std   Idle Max  \\\n",
       "0          0.0          0.0          0.0        0.0        0.0        0.0   \n",
       "1          0.0          0.0          0.0        0.0        0.0        0.0   \n",
       "2          0.0          0.0          0.0        0.0        0.0        0.0   \n",
       "3          0.0          0.0          0.0        0.0        0.0        0.0   \n",
       "4          0.0          0.0          0.0        0.0        0.0        0.0   \n",
       "\n",
       "    Idle Min  SimillarHTTP   Inbound   Label  \n",
       "0        0.0             0         1       1  \n",
       "1        0.0             0         1       1  \n",
       "2        0.0             0         1       1  \n",
       "3        0.0             0         1       1  \n",
       "4        0.0             0         1       1  \n",
       "\n",
       "[5 rows x 88 columns]"
      ]
     },
     "execution_count": 12,
     "metadata": {},
     "output_type": "execute_result"
    }
   ],
   "source": [
    "dataset[' Label']=dataset[' Label'].replace('TFTP',1)\n",
    "dataset[' Label']=dataset[' Label'].replace('BENIGN',0)\n",
    "dataset.head()"
   ]
  },
  {
   "cell_type": "code",
   "execution_count": 13,
   "id": "0cafdfe4",
   "metadata": {},
   "outputs": [],
   "source": [
    "y=dataset[' Label']"
   ]
  },
  {
   "cell_type": "code",
   "execution_count": 14,
   "id": "6225d35d",
   "metadata": {},
   "outputs": [
    {
     "data": {
      "text/plain": [
       "array([1, 0], dtype=int64)"
      ]
     },
     "execution_count": 14,
     "metadata": {},
     "output_type": "execute_result"
    }
   ],
   "source": [
    "dataset[' Label'].unique()"
   ]
  },
  {
   "cell_type": "code",
   "execution_count": 15,
   "id": "3e2b335d",
   "metadata": {},
   "outputs": [
    {
     "data": {
      "text/plain": [
       "<AxesSubplot:>"
      ]
     },
     "execution_count": 15,
     "metadata": {},
     "output_type": "execute_result"
    },
    {
     "data": {
      "image/png": "[encoded data removed]",
      "text/plain": [
       "<Figure size 1440x1440 with 2 Axes>"
      ]
     },
     "metadata": {
      "needs_background": "light"
     },
     "output_type": "display_data"
    }
   ],
   "source": [
    "fig, ax = mp.subplots(figsize=(20,20))\n",
    "sb.heatmap(dataset.corr(),linewidths=0.3)"
   ]
  },
  {
   "cell_type": "code",
   "execution_count": 16,
   "id": "7dacffb1",
   "metadata": {},
   "outputs": [],
   "source": [
    "dataset.drop([' Total Backward Packets',' Total Length of Bwd Packets',' Fwd Packet Length Std','Bwd Packet Length Max',' Bwd Packet Length Min',' Bwd Packet Length Mean',' Bwd Packet Length Std','Bwd IAT Total',' Bwd IAT Mean',' Bwd IAT Std',' Bwd IAT Max',' Bwd IAT Min','Fwd PSH Flags',' Bwd Header Length',' Packet Length Std',' Packet Length Variance',' RST Flag Count',' URG Flag Count',' CWE Flag Count',' Down/Up Ratio',' Avg Bwd Segment Size',' Subflow Bwd Bytes',' Subflow Bwd Packets','Init_Win_bytes_forward',' Init_Win_bytes_backward','Idle Mean',' Idle Std',' Idle Max',' Idle Min'],axis=1,inplace=True)"
   ]
  },
  {
   "cell_type": "code",
   "execution_count": 17,
   "id": "29322bd2",
   "metadata": {},
   "outputs": [
    {
     "data": {
      "text/plain": [
       "(201079, 59)"
      ]
     },
     "execution_count": 17,
     "metadata": {},
     "output_type": "execute_result"
    }
   ],
   "source": [
    "dataset.shape"
   ]
  },
  {
   "cell_type": "code",
   "execution_count": 18,
   "id": "374036da",
   "metadata": {},
   "outputs": [],
   "source": [
    "le= preprocessing.LabelEncoder()"
   ]
  },
  {
   "cell_type": "code",
   "execution_count": 19,
   "id": "0dfd185d",
   "metadata": {},
   "outputs": [
    {
     "data": {
      "text/plain": [
       "['Flow ID', ' Source IP', ' Destination IP', ' Timestamp', 'SimillarHTTP']"
      ]
     },
     "execution_count": 19,
     "metadata": {},
     "output_type": "execute_result"
    }
   ],
   "source": [
    "dataset.select_dtypes(include=['object']).columns.tolist()"
   ]
  },
  {
   "cell_type": "code",
   "execution_count": 20,
   "id": "1cf585fe",
   "metadata": {},
   "outputs": [],
   "source": [
    "dataset['Flow ID']=le.fit_transform(dataset['Flow ID'])\n",
    "dataset[' Source IP']=le.fit_transform(dataset[' Source IP'])\n",
    "dataset[' Destination IP']=le.fit_transform(dataset[' Destination IP'])\n",
    "dataset[' Timestamp']=le.fit_transform(dataset[' Timestamp'])"
   ]
  },
  {
   "cell_type": "code",
   "execution_count": 21,
   "id": "709e48c7",
   "metadata": {},
   "outputs": [],
   "source": [
    "dataset['SimillarHTTP'].unique()\n",
    "dataset['SimillarHTTP'] = dataset['SimillarHTTP'].astype(str)\n",
    "dataset['SimillarHTTP']=le.fit_transform(dataset['SimillarHTTP'])"
   ]
  },
  {
   "cell_type": "code",
   "execution_count": 22,
   "id": "6c283b28",
   "metadata": {},
   "outputs": [
    {
     "data": {
      "text/plain": [
       "['Total Length of Fwd Packets',\n",
       " ' Fwd Packet Length Max',\n",
       " ' Fwd Packet Length Min',\n",
       " ' Fwd Packet Length Mean',\n",
       " 'Flow Bytes/s',\n",
       " ' Flow Packets/s',\n",
       " ' Flow IAT Mean',\n",
       " ' Flow IAT Std',\n",
       " ' Flow IAT Max',\n",
       " ' Flow IAT Min',\n",
       " 'Fwd IAT Total',\n",
       " ' Fwd IAT Mean',\n",
       " ' Fwd IAT Std',\n",
       " ' Fwd IAT Max',\n",
       " ' Fwd IAT Min',\n",
       " 'Fwd Packets/s',\n",
       " ' Bwd Packets/s',\n",
       " ' Min Packet Length',\n",
       " ' Max Packet Length',\n",
       " ' Packet Length Mean',\n",
       " ' Average Packet Size',\n",
       " ' Avg Fwd Segment Size',\n",
       " 'Active Mean',\n",
       " ' Active Std',\n",
       " ' Active Max',\n",
       " ' Active Min']"
      ]
     },
     "execution_count": 22,
     "metadata": {},
     "output_type": "execute_result"
    }
   ],
   "source": [
    "dataset.select_dtypes(include=['float64']).columns.tolist()"
   ]
  },
  {
   "cell_type": "code",
   "execution_count": 23,
   "id": "79302570",
   "metadata": {},
   "outputs": [],
   "source": [
    "dataset['Total Length of Fwd Packets'].unique()\n",
    "dataset['Total Length of Fwd Packets'] = dataset['Total Length of Fwd Packets'].astype(int)\n",
    "dataset[' Fwd Packet Length Max'] = dataset[' Fwd Packet Length Max'].astype(int)\n",
    "dataset[' Fwd Packet Length Min'] = dataset[' Fwd Packet Length Min'].astype(int)\n",
    "dataset[' Fwd Packet Length Mean'] = dataset[' Fwd Packet Length Mean'].astype(int)\n",
    "dataset[' Flow IAT Mean'] = dataset[' Flow IAT Mean'].astype(int)\n",
    "dataset[' Flow IAT Std'] = dataset[' Flow IAT Std'].astype(int)\n",
    "dataset[' Flow IAT Max'] = dataset[' Flow IAT Max'].astype(int)\n",
    "dataset[' Flow IAT Min'] = dataset[' Flow IAT Min'].astype(int)\n",
    "dataset['Fwd IAT Total'] = dataset['Fwd IAT Total'].astype(int)\n",
    "dataset[' Fwd IAT Mean'] = dataset[' Fwd IAT Mean'].astype(int)\n",
    "dataset[' Fwd IAT Std'] = dataset[' Flow IAT Std'].astype(int)\n",
    "dataset[' Fwd IAT Max'] = dataset[' Fwd IAT Max'].astype(int)\n",
    "dataset[' Fwd IAT Min'] = dataset[' Fwd IAT Min'].astype(int)\n",
    "dataset['Fwd Packets/s'] = dataset['Fwd Packets/s'].astype(int)\n",
    "dataset[' Bwd Packets/s'] = dataset[' Bwd Packets/s'].astype(int)\n",
    "dataset[' Min Packet Length'] = dataset[' Min Packet Length'].astype(int)\n",
    "dataset[' Max Packet Length'] = dataset[' Max Packet Length'].astype(int)\n",
    "dataset[' Packet Length Mean'] = dataset[' Packet Length Mean'].astype(int)\n",
    "dataset[' Average Packet Size'] = dataset[' Average Packet Size'].astype(int)\n",
    "dataset[' Avg Fwd Segment Size'] = dataset[' Avg Fwd Segment Size'].astype(int)\n",
    "dataset['Active Mean'] = dataset['Active Mean'].astype(int)\n",
    "dataset[' Active Std'] = dataset[' Active Std'].astype(int)\n",
    "dataset[' Active Max'] = dataset[' Active Max'].astype(int)\n",
    "dataset[' Active Min'] = dataset[' Active Min'].astype(int)\n",
    "dataset['Flow Bytes/s'] = dataset['Flow Bytes/s'].apply(\"int64\")\n",
    "dataset[' Flow Packets/s'] = dataset[' Flow Packets/s'].apply(\"int64\")"
   ]
  },
  {
   "cell_type": "code",
   "execution_count": 24,
   "id": "5fe44de6",
   "metadata": {},
   "outputs": [
    {
     "data": {
      "text/plain": [
       "[]"
      ]
     },
     "execution_count": 24,
     "metadata": {},
     "output_type": "execute_result"
    }
   ],
   "source": [
    "dataset.select_dtypes(include=['float64']).columns.tolist()"
   ]
  },
  {
   "cell_type": "code",
   "execution_count": 25,
   "id": "1de6da46",
   "metadata": {},
   "outputs": [],
   "source": [
    "x=dataset.drop(labels=[' Label'],axis=1)\n",
    "y=dataset[' Label']"
   ]
  },
  {
   "cell_type": "code",
   "execution_count": 26,
   "id": "b9965016",
   "metadata": {},
   "outputs": [
    {
     "data": {
      "text/plain": [
       "((40215, 58), (160864, 58))"
      ]
     },
     "execution_count": 26,
     "metadata": {},
     "output_type": "execute_result"
    }
   ],
   "source": [
    "x_train, x_test, y_train, y_test = train_test_split(dataset.drop(labels=[' Label'],axis=1),dataset[' Label'],test_size=0.8,random_state=0)\n",
    "x_train.shape,x_test.shape"
   ]
  },
  {
   "cell_type": "code",
   "execution_count": 27,
   "id": "86bc2aa2",
   "metadata": {},
   "outputs": [
    {
     "data": {
      "text/plain": [
       "array([1.66869741e-03, 1.09950962e-02, 2.03900617e-02, 4.95329791e-03,\n",
       "       2.30020164e-02, 8.47333385e-03, 1.58567007e-02, 6.95360726e-03,\n",
       "       7.69221986e-03, 6.43834216e-03, 1.15569459e-02, 2.10514832e-02,\n",
       "       2.02124506e-02, 2.17261528e-02, 1.26626572e-03, 2.49637344e-04,\n",
       "       7.58349131e-03, 7.24418247e-03, 7.61770280e-03, 2.84390394e-03,\n",
       "       3.73937447e-03, 3.74022998e-03, 7.21327352e-03, 3.36038319e-03,\n",
       "       4.25024251e-03, 0.00000000e+00, 2.28276251e-04, 8.93034684e-05,\n",
       "       3.99613618e-03, 9.28469277e-03, 6.90035062e-03, 2.05370730e-02,\n",
       "       2.00598578e-02, 2.08611110e-02, 0.00000000e+00, 0.00000000e+00,\n",
       "       0.00000000e+00, 8.21051887e-04, 0.00000000e+00, 1.23126070e-02,\n",
       "       2.08443092e-02, 3.87938130e-03, 0.00000000e+00, 0.00000000e+00,\n",
       "       4.26653480e-04, 2.71392960e-04, 0.00000000e+00, 0.00000000e+00,\n",
       "       6.44818418e-03, 1.14186185e-02, 6.03708030e-03, 1.68578920e-03,\n",
       "       8.49655818e-04, 7.46692864e-05, 5.84220608e-04, 8.55620446e-04,\n",
       "       0.00000000e+00, 1.73850555e-02])"
      ]
     },
     "execution_count": 27,
     "metadata": {},
     "output_type": "execute_result"
    }
   ],
   "source": [
    "mutual_info = mutual_info_classif(x_train, y_train)\n",
    "mutual_info"
   ]
  },
  {
   "cell_type": "code",
   "execution_count": 28,
   "id": "bec2b23a",
   "metadata": {},
   "outputs": [
    {
     "data": {
      "text/plain": [
       " Destination IP                0.023002\n",
       " Fwd Packet Length Mean        0.021726\n",
       " Fwd Packet Length Max         0.021051\n",
       " Packet Length Mean            0.020861\n",
       " Avg Fwd Segment Size          0.020844\n",
       " Min Packet Length             0.020537\n",
       " Source IP                     0.020390\n",
       " Fwd Packet Length Min         0.020212\n",
       " Max Packet Length             0.020060\n",
       " Inbound                       0.017385\n",
       " Protocol                      0.015857\n",
       " Average Packet Size           0.012313\n",
       "Total Length of Fwd Packets    0.011557\n",
       " Subflow Fwd Bytes             0.011419\n",
       "Flow ID                        0.010995\n",
       "Fwd Packets/s                  0.009285\n",
       " Destination Port              0.008473\n",
       " Flow Duration                 0.007692\n",
       " Flow IAT Max                  0.007618\n",
       " Flow IAT Mean                 0.007583\n",
       " Flow IAT Std                  0.007244\n",
       " Fwd IAT Std                   0.007213\n",
       " Timestamp                     0.006954\n",
       " Bwd Packets/s                 0.006900\n",
       "Subflow Fwd Packets            0.006448\n",
       " Total Fwd Packets             0.006438\n",
       " act_data_pkt_fwd              0.006037\n",
       " Source Port                   0.004953\n",
       " Fwd IAT Min                   0.004250\n",
       " Fwd Header Length             0.003996\n",
       " Fwd Header Length.1           0.003879\n",
       " Fwd IAT Mean                  0.003740\n",
       "Fwd IAT Total                  0.003739\n",
       " Fwd IAT Max                   0.003360\n",
       " Flow IAT Min                  0.002844\n",
       " min_seg_size_forward          0.001686\n",
       "Unnamed: 0                     0.001669\n",
       "Flow Bytes/s                   0.001266\n",
       " Active Min                    0.000856\n",
       "Active Mean                    0.000850\n",
       " ACK Flag Count                0.000821\n",
       " Active Max                    0.000584\n",
       " Fwd Avg Bulk Rate             0.000427\n",
       " Bwd Avg Bytes/Bulk            0.000271\n",
       " Flow Packets/s                0.000250\n",
       " Fwd URG Flags                 0.000228\n",
       " Bwd URG Flags                 0.000089\n",
       " Active Std                    0.000075\n",
       "SimillarHTTP                   0.000000\n",
       " Bwd PSH Flags                 0.000000\n",
       " PSH Flag Count                0.000000\n",
       " ECE Flag Count                0.000000\n",
       " Bwd Avg Packets/Bulk          0.000000\n",
       " Fwd Avg Packets/Bulk          0.000000\n",
       "Fwd Avg Bytes/Bulk             0.000000\n",
       "FIN Flag Count                 0.000000\n",
       " SYN Flag Count                0.000000\n",
       "Bwd Avg Bulk Rate              0.000000\n",
       "dtype: float64"
      ]
     },
     "execution_count": 28,
     "metadata": {},
     "output_type": "execute_result"
    }
   ],
   "source": [
    "mutual_info=pd.Series(mutual_info)\n",
    "mutual_info.index=x_train.columns\n",
    "mutual_info.sort_values(ascending=False)"
   ]
  },
  {
   "cell_type": "code",
   "execution_count": 29,
   "id": "190ae581",
   "metadata": {},
   "outputs": [
    {
     "data": {
      "text/plain": [
       "<AxesSubplot:>"
      ]
     },
     "execution_count": 29,
     "metadata": {},
     "output_type": "execute_result"
    },
    {
     "data": {
      "image/png": "[encoded data removed]",
      "text/plain": [
       "<Figure size 2160x576 with 1 Axes>"
      ]
     },
     "metadata": {
      "needs_background": "light"
     },
     "output_type": "display_data"
    }
   ],
   "source": [
    "mutual_info.sort_values(ascending=False).plot.bar(figsize=(30,8))"
   ]
  },
  {
   "cell_type": "code",
   "execution_count": 30,
   "id": "82fe170e",
   "metadata": {},
   "outputs": [
    {
     "data": {
      "text/plain": [
       "Index(['Flow ID', ' Source IP', ' Source Port', ' Destination IP',\n",
       "       ' Destination Port', ' Protocol', ' Timestamp', ' Flow Duration',\n",
       "       ' Total Fwd Packets', 'Total Length of Fwd Packets',\n",
       "       ' Fwd Packet Length Max', ' Fwd Packet Length Min',\n",
       "       ' Fwd Packet Length Mean', ' Flow IAT Mean', ' Flow IAT Std',\n",
       "       ' Flow IAT Max', ' Fwd IAT Std', ' Fwd IAT Min', ' Fwd Header Length',\n",
       "       'Fwd Packets/s', ' Bwd Packets/s', ' Min Packet Length',\n",
       "       ' Max Packet Length', ' Packet Length Mean', ' Average Packet Size',\n",
       "       ' Avg Fwd Segment Size', 'Subflow Fwd Packets', ' Subflow Fwd Bytes',\n",
       "       ' act_data_pkt_fwd', ' Inbound'],\n",
       "      dtype='object')"
      ]
     },
     "execution_count": 30,
     "metadata": {},
     "output_type": "execute_result"
    }
   ],
   "source": [
    "cols=SelectKBest(mutual_info_classif,k=30)\n",
    "cols.fit(x_train.fillna(0),y_train)\n",
    "x_train.columns[cols.get_support()]"
   ]
  },
  {
   "cell_type": "code",
   "execution_count": 31,
   "id": "6ca02695",
   "metadata": {},
   "outputs": [
    {
     "data": {
      "text/plain": [
       "DecisionTreeClassifier()"
      ]
     },
     "execution_count": 31,
     "metadata": {},
     "output_type": "execute_result"
    }
   ],
   "source": [
    "model=DecisionTreeClassifier()\n",
    "model.fit(x_train,y_train)"
   ]
  },
  {
   "cell_type": "code",
   "execution_count": 32,
   "id": "82b71277",
   "metadata": {},
   "outputs": [
    {
     "data": {
      "text/plain": [
       "1.0"
      ]
     },
     "execution_count": 32,
     "metadata": {},
     "output_type": "execute_result"
    }
   ],
   "source": [
    "x_train_accuracy=model.predict(x_train)\n",
    "train_accuracy=accuracy_score(x_train_accuracy,y_train)\n",
    "train_accuracy"
   ]
  },
  {
   "cell_type": "code",
   "execution_count": 38,
   "id": "e9c82aef",
   "metadata": {},
   "outputs": [
    {
     "name": "stdout",
     "output_type": "stream",
     "text": [
      "0.9999875671374577\n",
      "              precision    recall  f1-score   support\n",
      "\n",
      "           0       0.99      1.00      1.00       214\n",
      "           1       1.00      1.00      1.00    160650\n",
      "\n",
      "    accuracy                           1.00    160864\n",
      "   macro avg       1.00      1.00      1.00    160864\n",
      "weighted avg       1.00      1.00      1.00    160864\n",
      "\n"
     ]
    }
   ],
   "source": [
    "x_test_accuracy=model.predict(x_test)\n",
    "test_accuracy=accuracy_score(x_test_accuracy,y_test)\n",
    "print(test_accuracy)\n",
    "from sklearn.metrics import classification_report\n",
    "print(classification_report(x_test_accuracy,y_test))"
   ]
  },
  {
   "cell_type": "code",
   "execution_count": 36,
   "id": "abac37dc",
   "metadata": {},
   "outputs": [],
   "source": [
    "from sklearn.model_selection import KFold, cross_val_score"
   ]
  },
  {
   "cell_type": "code",
   "execution_count": 39,
   "id": "3331d15b",
   "metadata": {},
   "outputs": [
    {
     "data": {
      "text/plain": [
       "array([ 1.        ,  1.        ,  1.        ,  1.        ,  1.        ,\n",
       "        1.        ,  1.        ,  1.        ,  1.        ,  1.        ,\n",
       "        1.        ,  1.        ,  1.        ,  1.        ,  1.        ,\n",
       "        1.        ,  1.        ,  1.        ,  1.        ,  1.        ,\n",
       "        1.        ,  1.        ,  1.        , -0.00144509,  1.        ,\n",
       "        1.        ,  1.        ,  1.        ,  1.        ,  1.        ,\n",
       "        1.        ,  1.        ,  1.        ,  1.        ,  1.        ,\n",
       "        1.        ,  1.        ,  1.        ,  1.        ,  1.        ,\n",
       "        1.        ,  1.        ,  1.        ,  1.        ,  1.        ,\n",
       "        1.        ,  1.        ,  1.        ,  1.        ,  1.        ,\n",
       "        1.        ,  1.        ,  1.        ,  1.        ,  1.        ,\n",
       "        1.        ,  1.        ,  1.        ])"
      ]
     },
     "execution_count": 39,
     "metadata": {},
     "output_type": "execute_result"
    }
   ],
   "source": [
    "model=model.fit(x_train,y_train)\n",
    "scores=cross_val_score(model, x_train, y_train, scoring='r2', cv=58)\n",
    "scores"
   ]
  },
  {
   "cell_type": "code",
   "execution_count": 40,
   "id": "e8755e23",
   "metadata": {},
   "outputs": [
    {
     "name": "stdout",
     "output_type": "stream",
     "text": [
      "0.9827337054016344\n"
     ]
    }
   ],
   "source": [
    "print(np.mean(scores))"
   ]
  },
  {
   "cell_type": "code",
   "execution_count": 41,
   "id": "a3260bcd",
   "metadata": {},
   "outputs": [],
   "source": [
    "from sklearn.model_selection import cross_val_predict"
   ]
  },
  {
   "cell_type": "code",
   "execution_count": 42,
   "id": "96c55346",
   "metadata": {},
   "outputs": [
    {
     "data": {
      "text/plain": [
       "array([1, 1, 1, ..., 1, 1, 1], dtype=int64)"
      ]
     },
     "execution_count": 42,
     "metadata": {},
     "output_type": "execute_result"
    }
   ],
   "source": [
    "predict=cross_val_predict(model,x_test,y_test)\n",
    "predict"
   ]
  },
  {
   "cell_type": "code",
   "execution_count": 43,
   "id": "d02fc1c0",
   "metadata": {},
   "outputs": [
    {
     "data": {
      "text/plain": [
       "array([1.        , 1.        , 1.        , 1.        , 1.        ,\n",
       "       1.        , 1.        , 1.        , 1.        , 1.        ,\n",
       "       1.        , 1.        , 0.99963951, 1.        , 0.99963951,\n",
       "       1.        , 1.        , 1.        , 1.        , 1.        ,\n",
       "       1.        , 1.        , 1.        , 1.        , 1.        ,\n",
       "       1.        , 1.        , 1.        , 1.        , 1.        ,\n",
       "       1.        , 1.        , 1.        , 1.        , 1.        ,\n",
       "       1.        , 1.        , 1.        , 1.        , 1.        ,\n",
       "       1.        , 1.        , 1.        , 1.        , 1.        ,\n",
       "       1.        , 1.        , 1.        , 1.        , 1.        ,\n",
       "       1.        , 1.        , 1.        , 0.99963938, 1.        ,\n",
       "       1.        , 1.        , 1.        ])"
      ]
     },
     "execution_count": 43,
     "metadata": {},
     "output_type": "execute_result"
    }
   ],
   "source": [
    "scores_test=cross_val_score(model,x_test,y_test,cv=58)\n",
    "scores_test"
   ]
  },
  {
   "cell_type": "code",
   "execution_count": 44,
   "id": "ce979d44",
   "metadata": {},
   "outputs": [
    {
     "name": "stdout",
     "output_type": "stream",
     "text": [
      "0.9999813517103382\n"
     ]
    }
   ],
   "source": [
    "print(np.mean(scores_test))"
   ]
  },
  {
   "cell_type": "code",
   "execution_count": 45,
   "id": "f5c8f74b",
   "metadata": {},
   "outputs": [],
   "source": [
    "#SVM\n",
    "from sklearn.ensemble import RandomForestClassifier\n",
    "from sklearn.svm import SVC\n",
    "from sklearn.datasets import make_classification\n",
    "from sklearn import svm"
   ]
  },
  {
   "cell_type": "code",
   "execution_count": 46,
   "id": "9878bd6d",
   "metadata": {},
   "outputs": [
    {
     "name": "stdout",
     "output_type": "stream",
     "text": [
      "0.96\n"
     ]
    }
   ],
   "source": [
    "classes=4\n",
    "x,t= make_classification(100, 5, n_classes=classes, random_state=40, n_informative=2, n_clusters_per_class=1)\n",
    "x_train,x_test,y_train,y_test= train_test_split(x, t, test_size=0.50)\n",
    "\n",
    "model= svm.SVC(kernel='linear',random_state=0,C=1.0)\n",
    "model.fit(x_train,y_train)\n",
    "\n",
    "y2=model.predict(x_train)\n",
    "y=model.predict(x_test)\n",
    "\n",
    "score2=accuracy_score(y2,y_train)\n",
    "print(score2)"
   ]
  },
  {
   "cell_type": "code",
   "execution_count": 48,
   "id": "ec63927f",
   "metadata": {},
   "outputs": [
    {
     "name": "stdout",
     "output_type": "stream",
     "text": [
      "0.86\n",
      "              precision    recall  f1-score   support\n",
      "\n",
      "           0       0.80      0.89      0.84         9\n",
      "           1       0.79      0.85      0.81        13\n",
      "           2       0.91      0.91      0.91        11\n",
      "           3       0.93      0.82      0.87        17\n",
      "\n",
      "    accuracy                           0.86        50\n",
      "   macro avg       0.86      0.87      0.86        50\n",
      "weighted avg       0.87      0.86      0.86        50\n",
      "\n"
     ]
    }
   ],
   "source": [
    "score=accuracy_score(y,y_test)\n",
    "print(score)\n",
    "\n",
    "print(classification_report(y,y_test))"
   ]
  },
  {
   "cell_type": "code",
   "execution_count": 49,
   "id": "e316d1e3",
   "metadata": {},
   "outputs": [],
   "source": [
    "from sklearn.ensemble import RandomForestRegressor\n",
    "regressor=RandomForestRegressor(n_estimators=20,random_state=0)\n",
    "regressor.fit(x_train,y_train)\n",
    "y_pred=regressor.predict(x_test)"
   ]
  },
  {
   "cell_type": "code",
   "execution_count": 52,
   "id": "1205603b",
   "metadata": {},
   "outputs": [
    {
     "name": "stdout",
     "output_type": "stream",
     "text": [
      "Mean Absolute Error- 0.337\n",
      "Mean Squared Error- 0.48715\n",
      "RMS Error- 0.6979613169796733\n"
     ]
    }
   ],
   "source": [
    "from sklearn import metrics\n",
    "print('Mean Absolute Error-', metrics.mean_absolute_error(y_test,y_pred))\n",
    "print('Mean Squared Error-', metrics.mean_squared_error(y_test,y_pred))\n",
    "print('RMS Error-', np.sqrt(metrics.mean_squared_error(y_test,y_pred)))"
   ]
  },
  {
   "cell_type": "code",
   "execution_count": 53,
   "id": "c9085495",
   "metadata": {},
   "outputs": [
    {
     "ename": "ValueError",
     "evalue": "Classification metrics can't handle a mix of continuous and multiclass targets",
     "output_type": "error",
     "traceback": [
      "\u001b[1;31m---------------------------------------------------------------------------\u001b[0m",
      "\u001b[1;31mValueError\u001b[0m                                Traceback (most recent call last)",
      "Input \u001b[1;32mIn [53]\u001b[0m, in \u001b[0;36m<cell line: 1>\u001b[1;34m()\u001b[0m\n\u001b[1;32m----> 1\u001b[0m \u001b[38;5;28mprint\u001b[39m(\u001b[43mclassification_report\u001b[49m\u001b[43m(\u001b[49m\u001b[43my_pred\u001b[49m\u001b[43m,\u001b[49m\u001b[43my_test\u001b[49m\u001b[43m)\u001b[49m)\n",
      "File \u001b[1;32m~\\anaconda3\\lib\\site-packages\\sklearn\\metrics\\_classification.py:2110\u001b[0m, in \u001b[0;36mclassification_report\u001b[1;34m(y_true, y_pred, labels, target_names, sample_weight, digits, output_dict, zero_division)\u001b[0m\n\u001b[0;32m   1998\u001b[0m \u001b[38;5;28;01mdef\u001b[39;00m \u001b[38;5;21mclassification_report\u001b[39m(\n\u001b[0;32m   1999\u001b[0m     y_true,\n\u001b[0;32m   2000\u001b[0m     y_pred,\n\u001b[1;32m   (...)\u001b[0m\n\u001b[0;32m   2007\u001b[0m     zero_division\u001b[38;5;241m=\u001b[39m\u001b[38;5;124m\"\u001b[39m\u001b[38;5;124mwarn\u001b[39m\u001b[38;5;124m\"\u001b[39m,\n\u001b[0;32m   2008\u001b[0m ):\n\u001b[0;32m   2009\u001b[0m     \u001b[38;5;124;03m\"\"\"Build a text report showing the main classification metrics.\u001b[39;00m\n\u001b[0;32m   2010\u001b[0m \n\u001b[0;32m   2011\u001b[0m \u001b[38;5;124;03m    Read more in the :ref:`User Guide <classification_report>`.\u001b[39;00m\n\u001b[1;32m   (...)\u001b[0m\n\u001b[0;32m   2107\u001b[0m \u001b[38;5;124;03m    <BLANKLINE>\u001b[39;00m\n\u001b[0;32m   2108\u001b[0m \u001b[38;5;124;03m    \"\"\"\u001b[39;00m\n\u001b[1;32m-> 2110\u001b[0m     y_type, y_true, y_pred \u001b[38;5;241m=\u001b[39m \u001b[43m_check_targets\u001b[49m\u001b[43m(\u001b[49m\u001b[43my_true\u001b[49m\u001b[43m,\u001b[49m\u001b[43m \u001b[49m\u001b[43my_pred\u001b[49m\u001b[43m)\u001b[49m\n\u001b[0;32m   2112\u001b[0m     \u001b[38;5;28;01mif\u001b[39;00m labels \u001b[38;5;129;01mis\u001b[39;00m \u001b[38;5;28;01mNone\u001b[39;00m:\n\u001b[0;32m   2113\u001b[0m         labels \u001b[38;5;241m=\u001b[39m unique_labels(y_true, y_pred)\n",
      "File \u001b[1;32m~\\anaconda3\\lib\\site-packages\\sklearn\\metrics\\_classification.py:93\u001b[0m, in \u001b[0;36m_check_targets\u001b[1;34m(y_true, y_pred)\u001b[0m\n\u001b[0;32m     90\u001b[0m     y_type \u001b[38;5;241m=\u001b[39m {\u001b[38;5;124m\"\u001b[39m\u001b[38;5;124mmulticlass\u001b[39m\u001b[38;5;124m\"\u001b[39m}\n\u001b[0;32m     92\u001b[0m \u001b[38;5;28;01mif\u001b[39;00m \u001b[38;5;28mlen\u001b[39m(y_type) \u001b[38;5;241m>\u001b[39m \u001b[38;5;241m1\u001b[39m:\n\u001b[1;32m---> 93\u001b[0m     \u001b[38;5;28;01mraise\u001b[39;00m \u001b[38;5;167;01mValueError\u001b[39;00m(\n\u001b[0;32m     94\u001b[0m         \u001b[38;5;124m\"\u001b[39m\u001b[38;5;124mClassification metrics can\u001b[39m\u001b[38;5;124m'\u001b[39m\u001b[38;5;124mt handle a mix of \u001b[39m\u001b[38;5;132;01m{0}\u001b[39;00m\u001b[38;5;124m and \u001b[39m\u001b[38;5;132;01m{1}\u001b[39;00m\u001b[38;5;124m targets\u001b[39m\u001b[38;5;124m\"\u001b[39m\u001b[38;5;241m.\u001b[39mformat(\n\u001b[0;32m     95\u001b[0m             type_true, type_pred\n\u001b[0;32m     96\u001b[0m         )\n\u001b[0;32m     97\u001b[0m     )\n\u001b[0;32m     99\u001b[0m \u001b[38;5;66;03m# We can't have more than one value on y_type => The set is no more needed\u001b[39;00m\n\u001b[0;32m    100\u001b[0m y_type \u001b[38;5;241m=\u001b[39m y_type\u001b[38;5;241m.\u001b[39mpop()\n",
      "\u001b[1;31mValueError\u001b[0m: Classification metrics can't handle a mix of continuous and multiclass targets"
     ]
    }
   ],
   "source": [
    "print(classification_report(y_pred,y_test))"
   ]
  },
  {
   "cell_type": "code",
   "execution_count": 54,
   "id": "b7fcf3c1",
   "metadata": {},
   "outputs": [
    {
     "data": {
      "text/plain": [
       "RandomForestClassifier(max_depth=3, n_estimators=20, random_state=1)"
      ]
     },
     "execution_count": 54,
     "metadata": {},
     "output_type": "execute_result"
    }
   ],
   "source": [
    "#RandomForestClassifier\n",
    "classifier=RandomForestClassifier(n_estimators=20,criterion='gini',random_state=1,max_depth=3)\n",
    "classifier.fit(x_train,y_train)"
   ]
  },
  {
   "cell_type": "code",
   "execution_count": 55,
   "id": "929aae04",
   "metadata": {},
   "outputs": [],
   "source": [
    "y_pred=classifier.predict(x_test)"
   ]
  },
  {
   "cell_type": "code",
   "execution_count": 56,
   "id": "1993edfc",
   "metadata": {},
   "outputs": [
    {
     "name": "stdout",
     "output_type": "stream",
     "text": [
      "              precision    recall  f1-score   support\n",
      "\n",
      "           0       1.00      0.90      0.95        10\n",
      "           1       0.86      0.86      0.86        14\n",
      "           2       1.00      1.00      1.00        11\n",
      "           3       0.81      0.87      0.84        15\n",
      "\n",
      "    accuracy                           0.90        50\n",
      "   macro avg       0.92      0.91      0.91        50\n",
      "weighted avg       0.90      0.90      0.90        50\n",
      "\n"
     ]
    }
   ],
   "source": [
    "from sklearn.metrics import classification_report\n",
    "print(classification_report(y_test,y_pred))"
   ]
  },
  {
   "cell_type": "code",
   "execution_count": 57,
   "id": "b9b00b28",
   "metadata": {},
   "outputs": [
    {
     "name": "stdout",
     "output_type": "stream",
     "text": [
      "0.9\n"
     ]
    }
   ],
   "source": [
    "rf_score_train=accuracy_score(y_test,y_pred)\n",
    "print(rf_score_train)"
   ]
  },
  {
   "cell_type": "code",
   "execution_count": 58,
   "id": "3876457d",
   "metadata": {},
   "outputs": [],
   "source": [
    "#Naive_bayes\n",
    "sc=StandardScaler()\n",
    "x_train=sc.fit_transform(x_train)\n",
    "x_test=sc.transform(x_test)"
   ]
  },
  {
   "cell_type": "code",
   "execution_count": 59,
   "id": "8b601b0c",
   "metadata": {},
   "outputs": [
    {
     "data": {
      "text/plain": [
       "GaussianNB()"
      ]
     },
     "execution_count": 59,
     "metadata": {},
     "output_type": "execute_result"
    }
   ],
   "source": [
    "from sklearn.naive_bayes import GaussianNB\n",
    "classifier=GaussianNB()\n",
    "classifier.fit(x_train,y_train)"
   ]
  },
  {
   "cell_type": "code",
   "execution_count": 60,
   "id": "2bd7ce2c",
   "metadata": {},
   "outputs": [],
   "source": [
    "y_pred=classifier.predict(x_test)"
   ]
  },
  {
   "cell_type": "code",
   "execution_count": 61,
   "id": "27468018",
   "metadata": {},
   "outputs": [
    {
     "name": "stdout",
     "output_type": "stream",
     "text": [
      "[[ 8  1  0  1]\n",
      " [ 0 12  0  2]\n",
      " [ 1  0 10  0]\n",
      " [ 0  2  0 13]]\n"
     ]
    }
   ],
   "source": [
    "from sklearn.metrics import confusion_matrix\n",
    "cm=confusion_matrix(y_test,y_pred)\n",
    "print(cm)"
   ]
  },
  {
   "cell_type": "code",
   "execution_count": 65,
   "id": "efc28b49",
   "metadata": {},
   "outputs": [
    {
     "name": "stdout",
     "output_type": "stream",
     "text": [
      "0.86\n",
      "              precision    recall  f1-score   support\n",
      "\n",
      "           0       0.89      0.80      0.84        10\n",
      "           1       0.80      0.86      0.83        14\n",
      "           2       1.00      0.91      0.95        11\n",
      "           3       0.81      0.87      0.84        15\n",
      "\n",
      "    accuracy                           0.86        50\n",
      "   macro avg       0.88      0.86      0.87        50\n",
      "weighted avg       0.87      0.86      0.86        50\n",
      "\n"
     ]
    }
   ],
   "source": [
    "nb_score_train=accuracy_score(y_test,y_pred)\n",
    "print(nb_score_train)\n",
    "print(classification_report(y_test,y_pred))"
   ]
  },
  {
   "cell_type": "code",
   "execution_count": 63,
   "id": "7bf3a658",
   "metadata": {},
   "outputs": [
    {
     "ename": "ModuleNotFoundError",
     "evalue": "No module named 'xgboost'",
     "output_type": "error",
     "traceback": [
      "\u001b[1;31m---------------------------------------------------------------------------\u001b[0m",
      "\u001b[1;31mModuleNotFoundError\u001b[0m                       Traceback (most recent call last)",
      "Input \u001b[1;32mIn [63]\u001b[0m, in \u001b[0;36m<cell line: 1>\u001b[1;34m()\u001b[0m\n\u001b[1;32m----> 1\u001b[0m \u001b[38;5;28;01mimport\u001b[39;00m \u001b[38;5;21;01mxgboost\u001b[39;00m\n",
      "\u001b[1;31mModuleNotFoundError\u001b[0m: No module named 'xgboost'"
     ]
    }
   ],
   "source": [
    "import xgboost"
   ]
  },
  {
   "cell_type": "code",
   "execution_count": 64,
   "id": "ec338936",
   "metadata": {},
   "outputs": [
    {
     "ename": "ModuleNotFoundError",
     "evalue": "No module named 'xgboost'",
     "output_type": "error",
     "traceback": [
      "\u001b[1;31m---------------------------------------------------------------------------\u001b[0m",
      "\u001b[1;31mModuleNotFoundError\u001b[0m                       Traceback (most recent call last)",
      "Input \u001b[1;32mIn [64]\u001b[0m, in \u001b[0;36m<cell line: 1>\u001b[1;34m()\u001b[0m\n\u001b[1;32m----> 1\u001b[0m \u001b[38;5;28;01mfrom\u001b[39;00m \u001b[38;5;21;01mxgboost\u001b[39;00m \u001b[38;5;28;01mimport\u001b[39;00m XGBClassifier\n",
      "\u001b[1;31mModuleNotFoundError\u001b[0m: No module named 'xgboost'"
     ]
    }
   ],
   "source": [
    "from xgboost import XGBClassifier"
   ]
  },
  {
   "cell_type": "code",
   "execution_count": null,
   "id": "b634ab45",
   "metadata": {},
   "outputs": [],
   "source": [
    "classifier=XGBClassifier()\n",
    "classifier.fit(x_train,y_train)"
   ]
  },
  {
   "cell_type": "code",
   "execution_count": null,
   "id": "2db38261",
   "metadata": {},
   "outputs": [],
   "source": [
    "y_pred=classifier.predict(x_test)\n",
    "xg_score_train=accuracy_score(y_test,y_pred)\n",
    "print(xg_score_train)"
   ]
  }
 ],
 "metadata": {
  "kernelspec": {
   "display_name": "Python 3 (ipykernel)",
   "language": "python",
   "name": "python3"
  },
  "language_info": {
   "codemirror_mode": {
    "name": "ipython",
    "version": 3
   },
   "file_extension": ".py",
   "mimetype": "text/x-python",
   "name": "python",
   "nbconvert_exporter": "python",
   "pygments_lexer": "ipython3",
   "version": "3.9.12"
  }
 },
 "nbformat": 4,
 "nbformat_minor": 5
}
